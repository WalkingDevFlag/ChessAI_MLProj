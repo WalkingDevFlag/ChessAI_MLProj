{
 "cells": [
  {
   "cell_type": "markdown",
   "metadata": {},
   "source": [
    "# Chess Engine with TensorFlow"
   ]
  },
  {
   "cell_type": "markdown",
   "metadata": {},
   "source": [
    "## Dataset"
   ]
  },
  {
   "cell_type": "code",
   "execution_count": 1,
   "metadata": {},
   "outputs": [],
   "source": [
    "import os\n",
    "\n",
    "files = [file for file in os.listdir(\"../../data/pgn\") if file.endswith(\".pgn\")]"
   ]
  },
  {
   "cell_type": "code",
   "execution_count": 2,
   "metadata": {},
   "outputs": [
    {
     "data": {
      "text/plain": [
       "79"
      ]
     },
     "execution_count": 2,
     "metadata": {},
     "output_type": "execute_result"
    }
   ],
   "source": [
    "len(files)"
   ]
  },
  {
   "cell_type": "code",
   "execution_count": 3,
   "metadata": {},
   "outputs": [],
   "source": [
    "from chess import pgn\n",
    "\n",
    "def load_pgn(file_path):\n",
    "    games = []\n",
    "    with open(file_path, 'r') as pgn_file:\n",
    "        while True:\n",
    "            game = pgn.read_game(pgn_file)\n",
    "            if game is None:\n",
    "                break\n",
    "            games.append(game)\n",
    "    return games"
   ]
  },
  {
   "cell_type": "code",
   "execution_count": 4,
   "metadata": {},
   "outputs": [
    {
     "name": "stderr",
     "output_type": "stream",
     "text": [
      " 29%|██▉       | 23/79 [00:20<00:50,  1.12it/s]\n"
     ]
    }
   ],
   "source": [
    "from tqdm import tqdm\n",
    "\n",
    "LIMIT_OF_FILES = min(len(files), 24)\n",
    "games = []\n",
    "i = 1\n",
    "for file in tqdm(files):\n",
    "    games.extend(load_pgn(f\"../../data/pgn/{file}\"))\n",
    "    if (i >= LIMIT_OF_FILES):\n",
    "        break\n",
    "    i += 1"
   ]
  },
  {
   "cell_type": "code",
   "execution_count": 5,
   "metadata": {},
   "outputs": [
    {
     "data": {
      "text/plain": [
       "10327"
      ]
     },
     "execution_count": 5,
     "metadata": {},
     "output_type": "execute_result"
    }
   ],
   "source": [
    "len(games)"
   ]
  },
  {
   "cell_type": "markdown",
   "metadata": {},
   "source": [
    "## Build & train a neural network"
   ]
  },
  {
   "cell_type": "code",
   "execution_count": 6,
   "metadata": {},
   "outputs": [],
   "source": [
    "import numpy as np\n",
    "from chess import Board\n",
    "from tensorflow.keras.utils import to_categorical\n",
    "from tensorflow.keras.models import Sequential\n",
    "from tensorflow.keras.layers import Conv2D, Flatten, Dense\n",
    "from tensorflow.keras.optimizers import Adam # type: ignore\n",
    "import time"
   ]
  },
  {
   "cell_type": "code",
   "execution_count": 7,
   "metadata": {},
   "outputs": [],
   "source": [
    "def board_to_matrix(board: Board):\n",
    "    matrix = np.zeros((8, 8, 12))\n",
    "    piece_map = board.piece_map()\n",
    "    for square, piece in piece_map.items():\n",
    "        row, col = divmod(square, 8)\n",
    "        piece_type = piece.piece_type - 1\n",
    "        piece_color = 0 if piece.color else 6\n",
    "        matrix[row, col, piece_type + piece_color] = 1\n",
    "    return matrix\n",
    "\n",
    "\n",
    "def create_input_for_nn(games):\n",
    "    X = []\n",
    "    y = []\n",
    "    for game in games:\n",
    "        board = game.board()\n",
    "        for move in game.mainline_moves():\n",
    "            X.append(board_to_matrix(board))\n",
    "            y.append(move.uci())\n",
    "            board.push(move)\n",
    "    return X, y\n",
    "\n",
    "\n",
    "def encode_moves(moves):\n",
    "    move_to_int = {move: idx for idx, move in enumerate(set(moves))}\n",
    "    return [move_to_int[move] for move in moves], move_to_int"
   ]
  },
  {
   "cell_type": "code",
   "execution_count": 9,
   "metadata": {},
   "outputs": [],
   "source": [
    "X, y = create_input_for_nn(games)\n",
    "y, move_to_int = encode_moves(y)\n",
    "y = to_categorical(y, num_classes=len(move_to_int))\n",
    "X = np.array(X)"
   ]
  },
  {
   "cell_type": "code",
   "execution_count": 10,
   "metadata": {},
   "outputs": [
    {
     "name": "stderr",
     "output_type": "stream",
     "text": [
      "c:\\Users\\Siddharth\\anaconda3\\envs\\kaggle_chess\\lib\\site-packages\\keras\\src\\layers\\convolutional\\base_conv.py:107: UserWarning: Do not pass an `input_shape`/`input_dim` argument to a layer. When using Sequential models, prefer using an `Input(shape)` object as the first layer in the model instead.\n",
      "  super().__init__(activity_regularizer=activity_regularizer, **kwargs)\n"
     ]
    }
   ],
   "source": [
    "model = Sequential([\n",
    "    Conv2D(64, (3, 3), activation='relu', input_shape=(8, 8, 12)),\n",
    "    Conv2D(128, (3, 3), activation='relu'),\n",
    "    Flatten(),\n",
    "    Dense(256, activation='relu'),\n",
    "    Dense(len(move_to_int), activation='softmax')\n",
    "])"
   ]
  },
  {
   "cell_type": "code",
   "execution_count": 11,
   "metadata": {},
   "outputs": [
    {
     "data": {
      "text/html": [
       "<pre style=\"white-space:pre;overflow-x:auto;line-height:normal;font-family:Menlo,'DejaVu Sans Mono',consolas,'Courier New',monospace\"><span style=\"font-weight: bold\">Model: \"sequential\"</span>\n",
       "</pre>\n"
      ],
      "text/plain": [
       "\u001b[1mModel: \"sequential\"\u001b[0m\n"
      ]
     },
     "metadata": {},
     "output_type": "display_data"
    },
    {
     "data": {
      "text/html": [
       "<pre style=\"white-space:pre;overflow-x:auto;line-height:normal;font-family:Menlo,'DejaVu Sans Mono',consolas,'Courier New',monospace\">┏━━━━━━━━━━━━━━━━━━━━━━━━━━━━━━━━━┳━━━━━━━━━━━━━━━━━━━━━━━━┳━━━━━━━━━━━━━━━┓\n",
       "┃<span style=\"font-weight: bold\"> Layer (type)                    </span>┃<span style=\"font-weight: bold\"> Output Shape           </span>┃<span style=\"font-weight: bold\">       Param # </span>┃\n",
       "┡━━━━━━━━━━━━━━━━━━━━━━━━━━━━━━━━━╇━━━━━━━━━━━━━━━━━━━━━━━━╇━━━━━━━━━━━━━━━┩\n",
       "│ conv2d (<span style=\"color: #0087ff; text-decoration-color: #0087ff\">Conv2D</span>)                 │ (<span style=\"color: #00d7ff; text-decoration-color: #00d7ff\">None</span>, <span style=\"color: #00af00; text-decoration-color: #00af00\">6</span>, <span style=\"color: #00af00; text-decoration-color: #00af00\">6</span>, <span style=\"color: #00af00; text-decoration-color: #00af00\">64</span>)       │         <span style=\"color: #00af00; text-decoration-color: #00af00\">6,976</span> │\n",
       "├─────────────────────────────────┼────────────────────────┼───────────────┤\n",
       "│ conv2d_1 (<span style=\"color: #0087ff; text-decoration-color: #0087ff\">Conv2D</span>)               │ (<span style=\"color: #00d7ff; text-decoration-color: #00d7ff\">None</span>, <span style=\"color: #00af00; text-decoration-color: #00af00\">4</span>, <span style=\"color: #00af00; text-decoration-color: #00af00\">4</span>, <span style=\"color: #00af00; text-decoration-color: #00af00\">128</span>)      │        <span style=\"color: #00af00; text-decoration-color: #00af00\">73,856</span> │\n",
       "├─────────────────────────────────┼────────────────────────┼───────────────┤\n",
       "│ flatten (<span style=\"color: #0087ff; text-decoration-color: #0087ff\">Flatten</span>)               │ (<span style=\"color: #00d7ff; text-decoration-color: #00d7ff\">None</span>, <span style=\"color: #00af00; text-decoration-color: #00af00\">2048</span>)           │             <span style=\"color: #00af00; text-decoration-color: #00af00\">0</span> │\n",
       "├─────────────────────────────────┼────────────────────────┼───────────────┤\n",
       "│ dense (<span style=\"color: #0087ff; text-decoration-color: #0087ff\">Dense</span>)                   │ (<span style=\"color: #00d7ff; text-decoration-color: #00d7ff\">None</span>, <span style=\"color: #00af00; text-decoration-color: #00af00\">256</span>)            │       <span style=\"color: #00af00; text-decoration-color: #00af00\">524,544</span> │\n",
       "├─────────────────────────────────┼────────────────────────┼───────────────┤\n",
       "│ dense_1 (<span style=\"color: #0087ff; text-decoration-color: #0087ff\">Dense</span>)                 │ (<span style=\"color: #00d7ff; text-decoration-color: #00d7ff\">None</span>, <span style=\"color: #00af00; text-decoration-color: #00af00\">1867</span>)           │       <span style=\"color: #00af00; text-decoration-color: #00af00\">479,819</span> │\n",
       "└─────────────────────────────────┴────────────────────────┴───────────────┘\n",
       "</pre>\n"
      ],
      "text/plain": [
       "┏━━━━━━━━━━━━━━━━━━━━━━━━━━━━━━━━━┳━━━━━━━━━━━━━━━━━━━━━━━━┳━━━━━━━━━━━━━━━┓\n",
       "┃\u001b[1m \u001b[0m\u001b[1mLayer (type)                   \u001b[0m\u001b[1m \u001b[0m┃\u001b[1m \u001b[0m\u001b[1mOutput Shape          \u001b[0m\u001b[1m \u001b[0m┃\u001b[1m \u001b[0m\u001b[1m      Param #\u001b[0m\u001b[1m \u001b[0m┃\n",
       "┡━━━━━━━━━━━━━━━━━━━━━━━━━━━━━━━━━╇━━━━━━━━━━━━━━━━━━━━━━━━╇━━━━━━━━━━━━━━━┩\n",
       "│ conv2d (\u001b[38;5;33mConv2D\u001b[0m)                 │ (\u001b[38;5;45mNone\u001b[0m, \u001b[38;5;34m6\u001b[0m, \u001b[38;5;34m6\u001b[0m, \u001b[38;5;34m64\u001b[0m)       │         \u001b[38;5;34m6,976\u001b[0m │\n",
       "├─────────────────────────────────┼────────────────────────┼───────────────┤\n",
       "│ conv2d_1 (\u001b[38;5;33mConv2D\u001b[0m)               │ (\u001b[38;5;45mNone\u001b[0m, \u001b[38;5;34m4\u001b[0m, \u001b[38;5;34m4\u001b[0m, \u001b[38;5;34m128\u001b[0m)      │        \u001b[38;5;34m73,856\u001b[0m │\n",
       "├─────────────────────────────────┼────────────────────────┼───────────────┤\n",
       "│ flatten (\u001b[38;5;33mFlatten\u001b[0m)               │ (\u001b[38;5;45mNone\u001b[0m, \u001b[38;5;34m2048\u001b[0m)           │             \u001b[38;5;34m0\u001b[0m │\n",
       "├─────────────────────────────────┼────────────────────────┼───────────────┤\n",
       "│ dense (\u001b[38;5;33mDense\u001b[0m)                   │ (\u001b[38;5;45mNone\u001b[0m, \u001b[38;5;34m256\u001b[0m)            │       \u001b[38;5;34m524,544\u001b[0m │\n",
       "├─────────────────────────────────┼────────────────────────┼───────────────┤\n",
       "│ dense_1 (\u001b[38;5;33mDense\u001b[0m)                 │ (\u001b[38;5;45mNone\u001b[0m, \u001b[38;5;34m1867\u001b[0m)           │       \u001b[38;5;34m479,819\u001b[0m │\n",
       "└─────────────────────────────────┴────────────────────────┴───────────────┘\n"
      ]
     },
     "metadata": {},
     "output_type": "display_data"
    },
    {
     "data": {
      "text/html": [
       "<pre style=\"white-space:pre;overflow-x:auto;line-height:normal;font-family:Menlo,'DejaVu Sans Mono',consolas,'Courier New',monospace\"><span style=\"font-weight: bold\"> Total params: </span><span style=\"color: #00af00; text-decoration-color: #00af00\">1,085,195</span> (4.14 MB)\n",
       "</pre>\n"
      ],
      "text/plain": [
       "\u001b[1m Total params: \u001b[0m\u001b[38;5;34m1,085,195\u001b[0m (4.14 MB)\n"
      ]
     },
     "metadata": {},
     "output_type": "display_data"
    },
    {
     "data": {
      "text/html": [
       "<pre style=\"white-space:pre;overflow-x:auto;line-height:normal;font-family:Menlo,'DejaVu Sans Mono',consolas,'Courier New',monospace\"><span style=\"font-weight: bold\"> Trainable params: </span><span style=\"color: #00af00; text-decoration-color: #00af00\">1,085,195</span> (4.14 MB)\n",
       "</pre>\n"
      ],
      "text/plain": [
       "\u001b[1m Trainable params: \u001b[0m\u001b[38;5;34m1,085,195\u001b[0m (4.14 MB)\n"
      ]
     },
     "metadata": {},
     "output_type": "display_data"
    },
    {
     "data": {
      "text/html": [
       "<pre style=\"white-space:pre;overflow-x:auto;line-height:normal;font-family:Menlo,'DejaVu Sans Mono',consolas,'Courier New',monospace\"><span style=\"font-weight: bold\"> Non-trainable params: </span><span style=\"color: #00af00; text-decoration-color: #00af00\">0</span> (0.00 B)\n",
       "</pre>\n"
      ],
      "text/plain": [
       "\u001b[1m Non-trainable params: \u001b[0m\u001b[38;5;34m0\u001b[0m (0.00 B)\n"
      ]
     },
     "metadata": {},
     "output_type": "display_data"
    }
   ],
   "source": [
    "model.compile(optimizer=Adam(), loss='categorical_crossentropy', metrics=['accuracy'])\n",
    "model.summary()"
   ]
  },
  {
   "cell_type": "code",
   "execution_count": null,
   "metadata": {},
   "outputs": [
    {
     "name": "stdout",
     "output_type": "stream",
     "text": [
      "Epoch 1/100\n",
      "\u001b[1m11931/11931\u001b[0m \u001b[32m━━━━━━━━━━━━━━━━━━━━\u001b[0m\u001b[37m\u001b[0m \u001b[1m218s\u001b[0m 18ms/step - accuracy: 0.0892 - loss: 5.6085 - val_accuracy: 0.1530 - val_loss: 4.3998\n",
      "Epoch 2/100\n",
      "\u001b[1m11931/11931\u001b[0m \u001b[32m━━━━━━━━━━━━━━━━━━━━\u001b[0m\u001b[37m\u001b[0m \u001b[1m172s\u001b[0m 14ms/step - accuracy: 0.1698 - loss: 4.1692 - val_accuracy: 0.1733 - val_loss: 4.1208\n",
      "Epoch 3/100\n",
      "\u001b[1m11931/11931\u001b[0m \u001b[32m━━━━━━━━━━━━━━━━━━━━\u001b[0m\u001b[37m\u001b[0m \u001b[1m184s\u001b[0m 13ms/step - accuracy: 0.1910 - loss: 3.8622 - val_accuracy: 0.1752 - val_loss: 4.0250\n",
      "Epoch 4/100\n",
      "\u001b[1m11931/11931\u001b[0m \u001b[32m━━━━━━━━━━━━━━━━━━━━\u001b[0m\u001b[37m\u001b[0m \u001b[1m79s\u001b[0m 7ms/step - accuracy: 0.2035 - loss: 3.7048 - val_accuracy: 0.1804 - val_loss: 3.9896\n",
      "Epoch 5/100\n",
      "\u001b[1m11931/11931\u001b[0m \u001b[32m━━━━━━━━━━━━━━━━━━━━\u001b[0m\u001b[37m\u001b[0m \u001b[1m96s\u001b[0m 8ms/step - accuracy: 0.2141 - loss: 3.6076 - val_accuracy: 0.1824 - val_loss: 3.9719\n",
      "Epoch 6/100\n",
      "\u001b[1m11931/11931\u001b[0m \u001b[32m━━━━━━━━━━━━━━━━━━━━\u001b[0m\u001b[37m\u001b[0m \u001b[1m75s\u001b[0m 6ms/step - accuracy: 0.2198 - loss: 3.5385 - val_accuracy: 0.1832 - val_loss: 3.9686\n",
      "Epoch 7/100\n",
      "\u001b[1m11931/11931\u001b[0m \u001b[32m━━━━━━━━━━━━━━━━━━━━\u001b[0m\u001b[37m\u001b[0m \u001b[1m76s\u001b[0m 6ms/step - accuracy: 0.2254 - loss: 3.4859 - val_accuracy: 0.1876 - val_loss: 3.9600\n",
      "Epoch 8/100\n",
      "\u001b[1m11931/11931\u001b[0m \u001b[32m━━━━━━━━━━━━━━━━━━━━\u001b[0m\u001b[37m\u001b[0m \u001b[1m72s\u001b[0m 6ms/step - accuracy: 0.2310 - loss: 3.4405 - val_accuracy: 0.1864 - val_loss: 3.9808\n",
      "Epoch 9/100\n",
      "\u001b[1m11931/11931\u001b[0m \u001b[32m━━━━━━━━━━━━━━━━━━━━\u001b[0m\u001b[37m\u001b[0m \u001b[1m125s\u001b[0m 10ms/step - accuracy: 0.2347 - loss: 3.4080 - val_accuracy: 0.1892 - val_loss: 3.9685\n",
      "Epoch 10/100\n",
      "\u001b[1m11931/11931\u001b[0m \u001b[32m━━━━━━━━━━━━━━━━━━━━\u001b[0m\u001b[37m\u001b[0m \u001b[1m118s\u001b[0m 8ms/step - accuracy: 0.2390 - loss: 3.3770 - val_accuracy: 0.1878 - val_loss: 3.9784\n",
      "Epoch 11/100\n",
      "\u001b[1m11931/11931\u001b[0m \u001b[32m━━━━━━━━━━━━━━━━━━━━\u001b[0m\u001b[37m\u001b[0m \u001b[1m112s\u001b[0m 9ms/step - accuracy: 0.2439 - loss: 3.3470 - val_accuracy: 0.1880 - val_loss: 3.9907\n",
      "Epoch 12/100\n",
      "\u001b[1m11931/11931\u001b[0m \u001b[32m━━━━━━━━━━━━━━━━━━━━\u001b[0m\u001b[37m\u001b[0m \u001b[1m75s\u001b[0m 6ms/step - accuracy: 0.2452 - loss: 3.3307 - val_accuracy: 0.1852 - val_loss: 3.9781\n",
      "Epoch 13/100\n",
      "\u001b[1m11931/11931\u001b[0m \u001b[32m━━━━━━━━━━━━━━━━━━━━\u001b[0m\u001b[37m\u001b[0m \u001b[1m77s\u001b[0m 6ms/step - accuracy: 0.2455 - loss: 3.3162 - val_accuracy: 0.1880 - val_loss: 4.0121\n",
      "Epoch 14/100\n",
      "\u001b[1m11931/11931\u001b[0m \u001b[32m━━━━━━━━━━━━━━━━━━━━\u001b[0m\u001b[37m\u001b[0m \u001b[1m82s\u001b[0m 7ms/step - accuracy: 0.2488 - loss: 3.2975 - val_accuracy: 0.1887 - val_loss: 4.0221\n",
      "Epoch 15/100\n",
      "\u001b[1m11931/11931\u001b[0m \u001b[32m━━━━━━━━━━━━━━━━━━━━\u001b[0m\u001b[37m\u001b[0m \u001b[1m76s\u001b[0m 6ms/step - accuracy: 0.2498 - loss: 3.2789 - val_accuracy: 0.1896 - val_loss: 4.0089\n",
      "Epoch 16/100\n",
      "\u001b[1m11931/11931\u001b[0m \u001b[32m━━━━━━━━━━━━━━━━━━━━\u001b[0m\u001b[37m\u001b[0m \u001b[1m76s\u001b[0m 6ms/step - accuracy: 0.2527 - loss: 3.2656 - val_accuracy: 0.1892 - val_loss: 4.0168\n",
      "Epoch 17/100\n",
      "\u001b[1m11931/11931\u001b[0m \u001b[32m━━━━━━━━━━━━━━━━━━━━\u001b[0m\u001b[37m\u001b[0m \u001b[1m105s\u001b[0m 9ms/step - accuracy: 0.2542 - loss: 3.2484 - val_accuracy: 0.1881 - val_loss: 4.0241\n",
      "Epoch 18/100\n",
      "\u001b[1m11931/11931\u001b[0m \u001b[32m━━━━━━━━━━━━━━━━━━━━\u001b[0m\u001b[37m\u001b[0m \u001b[1m75s\u001b[0m 6ms/step - accuracy: 0.2551 - loss: 3.2448 - val_accuracy: 0.1899 - val_loss: 4.0427\n",
      "Epoch 19/100\n",
      "\u001b[1m11931/11931\u001b[0m \u001b[32m━━━━━━━━━━━━━━━━━━━━\u001b[0m\u001b[37m\u001b[0m \u001b[1m98s\u001b[0m 8ms/step - accuracy: 0.2572 - loss: 3.2268 - val_accuracy: 0.1930 - val_loss: 4.0482\n",
      "Epoch 20/100\n",
      "\u001b[1m11931/11931\u001b[0m \u001b[32m━━━━━━━━━━━━━━━━━━━━\u001b[0m\u001b[37m\u001b[0m \u001b[1m89s\u001b[0m 7ms/step - accuracy: 0.2587 - loss: 3.2218 - val_accuracy: 0.1946 - val_loss: 4.0837\n",
      "Epoch 21/100\n",
      "\u001b[1m11931/11931\u001b[0m \u001b[32m━━━━━━━━━━━━━━━━━━━━\u001b[0m\u001b[37m\u001b[0m \u001b[1m156s\u001b[0m 13ms/step - accuracy: 0.2597 - loss: 3.2119 - val_accuracy: 0.1919 - val_loss: 4.0481\n",
      "Epoch 22/100\n",
      "\u001b[1m11931/11931\u001b[0m \u001b[32m━━━━━━━━━━━━━━━━━━━━\u001b[0m\u001b[37m\u001b[0m \u001b[1m65s\u001b[0m 5ms/step - accuracy: 0.2606 - loss: 3.2052 - val_accuracy: 0.1919 - val_loss: 4.0589\n",
      "Epoch 23/100\n",
      "\u001b[1m11931/11931\u001b[0m \u001b[32m━━━━━━━━━━━━━━━━━━━━\u001b[0m\u001b[37m\u001b[0m \u001b[1m74s\u001b[0m 6ms/step - accuracy: 0.2619 - loss: 3.1949 - val_accuracy: 0.1911 - val_loss: 4.0395\n",
      "Epoch 24/100\n",
      "\u001b[1m11931/11931\u001b[0m \u001b[32m━━━━━━━━━━━━━━━━━━━━\u001b[0m\u001b[37m\u001b[0m \u001b[1m76s\u001b[0m 6ms/step - accuracy: 0.2628 - loss: 3.1931 - val_accuracy: 0.1918 - val_loss: 4.0487\n",
      "Epoch 25/100\n",
      "\u001b[1m11931/11931\u001b[0m \u001b[32m━━━━━━━━━━━━━━━━━━━━\u001b[0m\u001b[37m\u001b[0m \u001b[1m143s\u001b[0m 12ms/step - accuracy: 0.2644 - loss: 3.1839 - val_accuracy: 0.1927 - val_loss: 4.1142\n",
      "Epoch 26/100\n",
      "\u001b[1m11931/11931\u001b[0m \u001b[32m━━━━━━━━━━━━━━━━━━━━\u001b[0m\u001b[37m\u001b[0m \u001b[1m64s\u001b[0m 5ms/step - accuracy: 0.2643 - loss: 3.1820 - val_accuracy: 0.1911 - val_loss: 4.1118\n",
      "Epoch 27/100\n",
      "\u001b[1m11931/11931\u001b[0m \u001b[32m━━━━━━━━━━━━━━━━━━━━\u001b[0m\u001b[37m\u001b[0m \u001b[1m63s\u001b[0m 5ms/step - accuracy: 0.2641 - loss: 3.1796 - val_accuracy: 0.1901 - val_loss: 4.1081\n",
      "Epoch 28/100\n",
      "\u001b[1m11931/11931\u001b[0m \u001b[32m━━━━━━━━━━━━━━━━━━━━\u001b[0m\u001b[37m\u001b[0m \u001b[1m64s\u001b[0m 5ms/step - accuracy: 0.2654 - loss: 3.1717 - val_accuracy: 0.1933 - val_loss: 4.1132\n",
      "Epoch 29/100\n",
      "\u001b[1m11931/11931\u001b[0m \u001b[32m━━━━━━━━━━━━━━━━━━━━\u001b[0m\u001b[37m\u001b[0m \u001b[1m63s\u001b[0m 5ms/step - accuracy: 0.2636 - loss: 3.1769 - val_accuracy: 0.1907 - val_loss: 4.0988\n",
      "Epoch 30/100\n",
      "\u001b[1m11931/11931\u001b[0m \u001b[32m━━━━━━━━━━━━━━━━━━━━\u001b[0m\u001b[37m\u001b[0m \u001b[1m109s\u001b[0m 9ms/step - accuracy: 0.2648 - loss: 3.1700 - val_accuracy: 0.1921 - val_loss: 4.0785\n",
      "Epoch 31/100\n",
      "\u001b[1m11931/11931\u001b[0m \u001b[32m━━━━━━━━━━━━━━━━━━━━\u001b[0m\u001b[37m\u001b[0m \u001b[1m71s\u001b[0m 6ms/step - accuracy: 0.2666 - loss: 3.1643 - val_accuracy: 0.1904 - val_loss: 4.1041\n",
      "Epoch 32/100\n",
      "\u001b[1m11931/11931\u001b[0m \u001b[32m━━━━━━━━━━━━━━━━━━━━\u001b[0m\u001b[37m\u001b[0m \u001b[1m72s\u001b[0m 6ms/step - accuracy: 0.2664 - loss: 3.1637 - val_accuracy: 0.1892 - val_loss: 4.0919\n",
      "Epoch 33/100\n",
      "\u001b[1m11931/11931\u001b[0m \u001b[32m━━━━━━━━━━━━━━━━━━━━\u001b[0m\u001b[37m\u001b[0m \u001b[1m68s\u001b[0m 6ms/step - accuracy: 0.2665 - loss: 3.1580 - val_accuracy: 0.1874 - val_loss: 4.0828\n",
      "Epoch 34/100\n",
      "\u001b[1m11931/11931\u001b[0m \u001b[32m━━━━━━━━━━━━━━━━━━━━\u001b[0m\u001b[37m\u001b[0m \u001b[1m129s\u001b[0m 11ms/step - accuracy: 0.2666 - loss: 3.1592 - val_accuracy: 0.1907 - val_loss: 4.1346\n",
      "Epoch 35/100\n",
      "\u001b[1m11931/11931\u001b[0m \u001b[32m━━━━━━━━━━━━━━━━━━━━\u001b[0m\u001b[37m\u001b[0m \u001b[1m99s\u001b[0m 8ms/step - accuracy: 0.2663 - loss: 3.1633 - val_accuracy: 0.1903 - val_loss: 4.1775\n",
      "Epoch 36/100\n",
      "\u001b[1m11931/11931\u001b[0m \u001b[32m━━━━━━━━━━━━━━━━━━━━\u001b[0m\u001b[37m\u001b[0m \u001b[1m65s\u001b[0m 5ms/step - accuracy: 0.2665 - loss: 3.1598 - val_accuracy: 0.1923 - val_loss: 4.1028\n",
      "Epoch 37/100\n",
      "\u001b[1m11931/11931\u001b[0m \u001b[32m━━━━━━━━━━━━━━━━━━━━\u001b[0m\u001b[37m\u001b[0m \u001b[1m64s\u001b[0m 5ms/step - accuracy: 0.2663 - loss: 3.1617 - val_accuracy: 0.1874 - val_loss: 4.1329\n",
      "Epoch 38/100\n",
      "\u001b[1m11931/11931\u001b[0m \u001b[32m━━━━━━━━━━━━━━━━━━━━\u001b[0m\u001b[37m\u001b[0m \u001b[1m68s\u001b[0m 6ms/step - accuracy: 0.2666 - loss: 3.1585 - val_accuracy: 0.1890 - val_loss: 4.1106\n",
      "Epoch 39/100\n",
      "\u001b[1m11931/11931\u001b[0m \u001b[32m━━━━━━━━━━━━━━━━━━━━\u001b[0m\u001b[37m\u001b[0m \u001b[1m68s\u001b[0m 6ms/step - accuracy: 0.2680 - loss: 3.1528 - val_accuracy: 0.1903 - val_loss: 4.1807\n",
      "Epoch 40/100\n",
      "\u001b[1m11931/11931\u001b[0m \u001b[32m━━━━━━━━━━━━━━━━━━━━\u001b[0m\u001b[37m\u001b[0m \u001b[1m67s\u001b[0m 6ms/step - accuracy: 0.2672 - loss: 3.1576 - val_accuracy: 0.1912 - val_loss: 4.0923\n",
      "Epoch 41/100\n",
      "\u001b[1m11931/11931\u001b[0m \u001b[32m━━━━━━━━━━━━━━━━━━━━\u001b[0m\u001b[37m\u001b[0m \u001b[1m69s\u001b[0m 6ms/step - accuracy: 0.2670 - loss: 3.1560 - val_accuracy: 0.1889 - val_loss: 4.0844\n",
      "Epoch 42/100\n",
      "\u001b[1m11931/11931\u001b[0m \u001b[32m━━━━━━━━━━━━━━━━━━━━\u001b[0m\u001b[37m\u001b[0m \u001b[1m65s\u001b[0m 5ms/step - accuracy: 0.2664 - loss: 3.1603 - val_accuracy: 0.1924 - val_loss: 4.1441\n",
      "Epoch 43/100\n",
      "\u001b[1m11931/11931\u001b[0m \u001b[32m━━━━━━━━━━━━━━━━━━━━\u001b[0m\u001b[37m\u001b[0m \u001b[1m66s\u001b[0m 6ms/step - accuracy: 0.2679 - loss: 3.1594 - val_accuracy: 0.1915 - val_loss: 4.1724\n",
      "Epoch 44/100\n",
      "\u001b[1m11931/11931\u001b[0m \u001b[32m━━━━━━━━━━━━━━━━━━━━\u001b[0m\u001b[37m\u001b[0m \u001b[1m65s\u001b[0m 5ms/step - accuracy: 0.2673 - loss: 3.1611 - val_accuracy: 0.1896 - val_loss: 4.1071\n",
      "Epoch 45/100\n",
      "\u001b[1m11931/11931\u001b[0m \u001b[32m━━━━━━━━━━━━━━━━━━━━\u001b[0m\u001b[37m\u001b[0m \u001b[1m65s\u001b[0m 5ms/step - accuracy: 0.2673 - loss: 3.1554 - val_accuracy: 0.1890 - val_loss: 4.1723\n",
      "Epoch 46/100\n",
      "\u001b[1m11931/11931\u001b[0m \u001b[32m━━━━━━━━━━━━━━━━━━━━\u001b[0m\u001b[37m\u001b[0m \u001b[1m102s\u001b[0m 9ms/step - accuracy: 0.2678 - loss: 3.1610 - val_accuracy: 0.1938 - val_loss: 4.2106\n",
      "Epoch 47/100\n",
      "\u001b[1m11931/11931\u001b[0m \u001b[32m━━━━━━━━━━━━━━━━━━━━\u001b[0m\u001b[37m\u001b[0m \u001b[1m131s\u001b[0m 11ms/step - accuracy: 0.2683 - loss: 3.1551 - val_accuracy: 0.1905 - val_loss: 4.1437\n",
      "Epoch 48/100\n",
      "\u001b[1m11931/11931\u001b[0m \u001b[32m━━━━━━━━━━━━━━━━━━━━\u001b[0m\u001b[37m\u001b[0m \u001b[1m68s\u001b[0m 6ms/step - accuracy: 0.2668 - loss: 3.1544 - val_accuracy: 0.1903 - val_loss: 4.1484\n",
      "Epoch 49/100\n",
      "\u001b[1m11931/11931\u001b[0m \u001b[32m━━━━━━━━━━━━━━━━━━━━\u001b[0m\u001b[37m\u001b[0m \u001b[1m105s\u001b[0m 9ms/step - accuracy: 0.2666 - loss: 3.1584 - val_accuracy: 0.1911 - val_loss: 4.0667\n",
      "Epoch 50/100\n",
      "\u001b[1m11931/11931\u001b[0m \u001b[32m━━━━━━━━━━━━━━━━━━━━\u001b[0m\u001b[37m\u001b[0m \u001b[1m129s\u001b[0m 11ms/step - accuracy: 0.2660 - loss: 3.1558 - val_accuracy: 0.1882 - val_loss: 4.1139\n",
      "Epoch 51/100\n",
      "\u001b[1m11931/11931\u001b[0m \u001b[32m━━━━━━━━━━━━━━━━━━━━\u001b[0m\u001b[37m\u001b[0m \u001b[1m70s\u001b[0m 6ms/step - accuracy: 0.2662 - loss: 3.1567 - val_accuracy: 0.1900 - val_loss: 4.1612\n",
      "Epoch 52/100\n",
      "\u001b[1m11931/11931\u001b[0m \u001b[32m━━━━━━━━━━━━━━━━━━━━\u001b[0m\u001b[37m\u001b[0m \u001b[1m83s\u001b[0m 7ms/step - accuracy: 0.2659 - loss: 3.1581 - val_accuracy: 0.1910 - val_loss: 4.0785\n",
      "Epoch 53/100\n",
      "\u001b[1m11931/11931\u001b[0m \u001b[32m━━━━━━━━━━━━━━━━━━━━\u001b[0m\u001b[37m\u001b[0m \u001b[1m215s\u001b[0m 18ms/step - accuracy: 0.2658 - loss: 3.1591 - val_accuracy: 0.1888 - val_loss: 4.0987\n",
      "Epoch 54/100\n",
      "\u001b[1m11931/11931\u001b[0m \u001b[32m━━━━━━━━━━━━━━━━━━━━\u001b[0m\u001b[37m\u001b[0m \u001b[1m298s\u001b[0m 21ms/step - accuracy: 0.2657 - loss: 3.1577 - val_accuracy: 0.1895 - val_loss: 4.1712\n",
      "Epoch 55/100\n",
      "\u001b[1m11931/11931\u001b[0m \u001b[32m━━━━━━━━━━━━━━━━━━━━\u001b[0m\u001b[37m\u001b[0m \u001b[1m71s\u001b[0m 6ms/step - accuracy: 0.2666 - loss: 3.1547 - val_accuracy: 0.1905 - val_loss: 4.1055\n",
      "Epoch 56/100\n",
      "\u001b[1m11931/11931\u001b[0m \u001b[32m━━━━━━━━━━━━━━━━━━━━\u001b[0m\u001b[37m\u001b[0m \u001b[1m78s\u001b[0m 7ms/step - accuracy: 0.2662 - loss: 3.1576 - val_accuracy: 0.1894 - val_loss: 4.1551\n",
      "Epoch 57/100\n",
      "\u001b[1m11931/11931\u001b[0m \u001b[32m━━━━━━━━━━━━━━━━━━━━\u001b[0m\u001b[37m\u001b[0m \u001b[1m146s\u001b[0m 12ms/step - accuracy: 0.2674 - loss: 3.1556 - val_accuracy: 0.1894 - val_loss: 4.1116\n",
      "Epoch 58/100\n",
      "\u001b[1m11931/11931\u001b[0m \u001b[32m━━━━━━━━━━━━━━━━━━━━\u001b[0m\u001b[37m\u001b[0m \u001b[1m69s\u001b[0m 6ms/step - accuracy: 0.2654 - loss: 3.1579 - val_accuracy: 0.1909 - val_loss: 4.1630\n",
      "Epoch 59/100\n",
      "\u001b[1m11931/11931\u001b[0m \u001b[32m━━━━━━━━━━━━━━━━━━━━\u001b[0m\u001b[37m\u001b[0m \u001b[1m69s\u001b[0m 6ms/step - accuracy: 0.2672 - loss: 3.1570 - val_accuracy: 0.1886 - val_loss: 4.1243\n",
      "Epoch 60/100\n",
      "\u001b[1m11931/11931\u001b[0m \u001b[32m━━━━━━━━━━━━━━━━━━━━\u001b[0m\u001b[37m\u001b[0m \u001b[1m70s\u001b[0m 6ms/step - accuracy: 0.2654 - loss: 3.1614 - val_accuracy: 0.1896 - val_loss: 4.1161\n",
      "Epoch 61/100\n",
      "\u001b[1m11931/11931\u001b[0m \u001b[32m━━━━━━━━━━━━━━━━━━━━\u001b[0m\u001b[37m\u001b[0m \u001b[1m67s\u001b[0m 6ms/step - accuracy: 0.2673 - loss: 3.1530 - val_accuracy: 0.1904 - val_loss: 4.1901\n",
      "Epoch 62/100\n",
      "\u001b[1m11931/11931\u001b[0m \u001b[32m━━━━━━━━━━━━━━━━━━━━\u001b[0m\u001b[37m\u001b[0m \u001b[1m82s\u001b[0m 7ms/step - accuracy: 0.2670 - loss: 3.1576 - val_accuracy: 0.1921 - val_loss: 4.1510\n",
      "Epoch 63/100\n",
      "\u001b[1m11931/11931\u001b[0m \u001b[32m━━━━━━━━━━━━━━━━━━━━\u001b[0m\u001b[37m\u001b[0m \u001b[1m70s\u001b[0m 6ms/step - accuracy: 0.2658 - loss: 3.1630 - val_accuracy: 0.1924 - val_loss: 4.1691\n",
      "Epoch 64/100\n",
      "\u001b[1m11931/11931\u001b[0m \u001b[32m━━━━━━━━━━━━━━━━━━━━\u001b[0m\u001b[37m\u001b[0m \u001b[1m76s\u001b[0m 6ms/step - accuracy: 0.2669 - loss: 3.1556 - val_accuracy: 0.1919 - val_loss: 4.1315\n",
      "Epoch 65/100\n",
      "\u001b[1m11931/11931\u001b[0m \u001b[32m━━━━━━━━━━━━━━━━━━━━\u001b[0m\u001b[37m\u001b[0m \u001b[1m69s\u001b[0m 6ms/step - accuracy: 0.2659 - loss: 3.1578 - val_accuracy: 0.1924 - val_loss: 4.1002\n",
      "Epoch 66/100\n",
      "\u001b[1m11931/11931\u001b[0m \u001b[32m━━━━━━━━━━━━━━━━━━━━\u001b[0m\u001b[37m\u001b[0m \u001b[1m226s\u001b[0m 19ms/step - accuracy: 0.2666 - loss: 3.1586 - val_accuracy: 0.1901 - val_loss: 4.1119\n",
      "Epoch 67/100\n",
      "\u001b[1m11931/11931\u001b[0m \u001b[32m━━━━━━━━━━━━━━━━━━━━\u001b[0m\u001b[37m\u001b[0m \u001b[1m276s\u001b[0m 23ms/step - accuracy: 0.2656 - loss: 3.1601 - val_accuracy: 0.1886 - val_loss: 4.0855\n",
      "Epoch 68/100\n",
      "\u001b[1m11931/11931\u001b[0m \u001b[32m━━━━━━━━━━━━━━━━━━━━\u001b[0m\u001b[37m\u001b[0m \u001b[1m237s\u001b[0m 16ms/step - accuracy: 0.2656 - loss: 3.1601 - val_accuracy: 0.1935 - val_loss: 4.2450\n",
      "Epoch 69/100\n",
      "\u001b[1m11931/11931\u001b[0m \u001b[32m━━━━━━━━━━━━━━━━━━━━\u001b[0m\u001b[37m\u001b[0m \u001b[1m92s\u001b[0m 8ms/step - accuracy: 0.2656 - loss: 3.1632 - val_accuracy: 0.1919 - val_loss: 4.1364\n",
      "Epoch 70/100\n",
      "\u001b[1m11931/11931\u001b[0m \u001b[32m━━━━━━━━━━━━━━━━━━━━\u001b[0m\u001b[37m\u001b[0m \u001b[1m87s\u001b[0m 7ms/step - accuracy: 0.2659 - loss: 3.1658 - val_accuracy: 0.1889 - val_loss: 4.0913\n",
      "Epoch 71/100\n",
      "\u001b[1m11931/11931\u001b[0m \u001b[32m━━━━━━━━━━━━━━━━━━━━\u001b[0m\u001b[37m\u001b[0m \u001b[1m97s\u001b[0m 8ms/step - accuracy: 0.2664 - loss: 3.1621 - val_accuracy: 0.1922 - val_loss: 4.1198\n",
      "Epoch 72/100\n",
      "\u001b[1m11931/11931\u001b[0m \u001b[32m━━━━━━━━━━━━━━━━━━━━\u001b[0m\u001b[37m\u001b[0m \u001b[1m171s\u001b[0m 14ms/step - accuracy: 0.2644 - loss: 3.1680 - val_accuracy: 0.1903 - val_loss: 4.1530\n",
      "Epoch 73/100\n",
      "\u001b[1m11931/11931\u001b[0m \u001b[32m━━━━━━━━━━━━━━━━━━━━\u001b[0m\u001b[37m\u001b[0m \u001b[1m78s\u001b[0m 7ms/step - accuracy: 0.2648 - loss: 3.1668 - val_accuracy: 0.1901 - val_loss: 4.0535\n",
      "Epoch 74/100\n",
      "\u001b[1m11931/11931\u001b[0m \u001b[32m━━━━━━━━━━━━━━━━━━━━\u001b[0m\u001b[37m\u001b[0m \u001b[1m72s\u001b[0m 6ms/step - accuracy: 0.2647 - loss: 3.1707 - val_accuracy: 0.1872 - val_loss: 4.1026\n",
      "Epoch 75/100\n",
      "\u001b[1m11931/11931\u001b[0m \u001b[32m━━━━━━━━━━━━━━━━━━━━\u001b[0m\u001b[37m\u001b[0m \u001b[1m72s\u001b[0m 6ms/step - accuracy: 0.2642 - loss: 3.1720 - val_accuracy: 0.1904 - val_loss: 4.2371\n",
      "Epoch 76/100\n",
      "\u001b[1m11931/11931\u001b[0m \u001b[32m━━━━━━━━━━━━━━━━━━━━\u001b[0m\u001b[37m\u001b[0m \u001b[1m73s\u001b[0m 6ms/step - accuracy: 0.2642 - loss: 3.1687 - val_accuracy: 0.1914 - val_loss: 4.1336\n",
      "Epoch 77/100\n",
      "\u001b[1m11931/11931\u001b[0m \u001b[32m━━━━━━━━━━━━━━━━━━━━\u001b[0m\u001b[37m\u001b[0m \u001b[1m73s\u001b[0m 6ms/step - accuracy: 0.2637 - loss: 3.1741 - val_accuracy: 0.1899 - val_loss: 4.1067\n",
      "Epoch 78/100\n",
      "\u001b[1m11931/11931\u001b[0m \u001b[32m━━━━━━━━━━━━━━━━━━━━\u001b[0m\u001b[37m\u001b[0m \u001b[1m75s\u001b[0m 6ms/step - accuracy: 0.2636 - loss: 3.1744 - val_accuracy: 0.1880 - val_loss: 4.1641\n",
      "Epoch 79/100\n",
      "\u001b[1m11931/11931\u001b[0m \u001b[32m━━━━━━━━━━━━━━━━━━━━\u001b[0m\u001b[37m\u001b[0m \u001b[1m74s\u001b[0m 6ms/step - accuracy: 0.2629 - loss: 3.1784 - val_accuracy: 0.1905 - val_loss: 4.1633\n",
      "Epoch 80/100\n",
      "\u001b[1m11135/11931\u001b[0m \u001b[32m━━━━━━━━━━━━━━━━━━\u001b[0m\u001b[37m━━\u001b[0m \u001b[1m8s\u001b[0m 11ms/step - accuracy: 0.2637 - loss: 3.1770"
     ]
    }
   ],
   "source": [
    "model.fit(X, y, epochs=100, validation_split=0.1, batch_size=64)\n",
    "model.save(\"models/TF_100EPOCHS.keras\")"
   ]
  },
  {
   "cell_type": "markdown",
   "metadata": {},
   "source": [
    "## Predictions"
   ]
  },
  {
   "cell_type": "code",
   "execution_count": null,
   "metadata": {},
   "outputs": [],
   "source": [
    "# Load the trained model\n",
    "from tensorflow.keras.models import load_model\n",
    "model = load_model(\"../../models/TF_50EPOCHS.keras\")"
   ]
  },
  {
   "cell_type": "code",
   "execution_count": null,
   "metadata": {},
   "outputs": [],
   "source": [
    "int_to_move = dict(zip(move_to_int.values(), move_to_int.keys()))\n",
    "\n",
    "\n",
    "def predict_next_move(board):\n",
    "    board_matrix = board_to_matrix(board).reshape(1, 8, 8, 12)\n",
    "    predictions = model.predict(board_matrix)[0]\n",
    "    legal_moves = list(board.legal_moves)\n",
    "    legal_moves_uci = [move.uci() for move in legal_moves]\n",
    "    sorted_indices = np.argsort(predictions)[::-1]\n",
    "    for move_index in sorted_indices:\n",
    "        move = int_to_move[move_index]\n",
    "        if move in legal_moves_uci:\n",
    "            return move\n",
    "    return None"
   ]
  },
  {
   "cell_type": "code",
   "execution_count": null,
   "metadata": {},
   "outputs": [],
   "source": [
    "# Create a chess board (start position)\n",
    "board = Board()"
   ]
  },
  {
   "cell_type": "code",
   "execution_count": null,
   "metadata": {},
   "outputs": [],
   "source": [
    "# Display the board before prediction\n",
    "print(\"Board before prediction:\")\n",
    "print(board)\n",
    "\n",
    "# Predict and make the move\n",
    "next_move = predict_next_move(board)\n",
    "board.push_uci(next_move)\n",
    "\n",
    "# Display the board after prediction\n",
    "print(\"\\nPredicted move:\", next_move)\n",
    "print(\"Board after prediction:\")\n",
    "print(board)"
   ]
  },
  {
   "cell_type": "code",
   "execution_count": null,
   "metadata": {},
   "outputs": [],
   "source": [
    "print(str(pgn.Game.from_board(board)))"
   ]
  }
 ],
 "metadata": {
  "kernelspec": {
   "display_name": "kaggle_chess",
   "language": "python",
   "name": "python3"
  },
  "language_info": {
   "codemirror_mode": {
    "name": "ipython",
    "version": 3
   },
   "file_extension": ".py",
   "mimetype": "text/x-python",
   "name": "python",
   "nbconvert_exporter": "python",
   "pygments_lexer": "ipython3",
   "version": "3.10.15"
  }
 },
 "nbformat": 4,
 "nbformat_minor": 2
}
